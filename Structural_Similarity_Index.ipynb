{
  "cells": [
    {
      "cell_type": "code",
      "execution_count": 1,
      "metadata": {
        "colab": {
          "base_uri": "https://localhost:8080/"
        },
        "id": "pYXaiq_c869x",
        "outputId": "c129d4c9-a33b-444c-fa94-6444851b2ce1"
      },
      "outputs": [
        {
          "output_type": "stream",
          "name": "stdout",
          "text": [
            "Mounted at /content/drive\n"
          ]
        }
      ],
      "source": [
        "from google.colab import drive\n",
        "drive.mount('/content/drive')"
      ]
    },
    {
      "cell_type": "markdown",
      "source": [
        "# Calculating the SSIM score keeping threshold = 0.999\n",
        "# self coded from scratch"
      ],
      "metadata": {
        "id": "4N5lIkELFjqJ"
      }
    },
    {
      "cell_type": "code",
      "source": [
        "import numpy as np\n",
        "import cv2\n",
        "\n",
        "def calculate_ssim(image1, image2, window_size=11, K1=0.01, K2=0.03, L=255):\n",
        "    if image1.shape != image2.shape:\n",
        "        raise ValueError(\"Input images must have the same dimensions.\")\n",
        "\n",
        "    C1 = (K1 * L) ** 2\n",
        "    C2 = (K2 * L) ** 2\n",
        "\n",
        "    def gaussian_kernel(size, sigma=1.5):\n",
        "        ax = np.arange(-(size // 2), size // 2 + 1, 1)\n",
        "        xx, yy = np.meshgrid(ax, ax)\n",
        "        kernel = np.exp(-(xx**2 + yy**2) / (2 * sigma**2))\n",
        "        return kernel / np.sum(kernel)\n",
        "\n",
        "    kernel = gaussian_kernel(window_size)\n",
        "\n",
        "    mu1 = convolve(image1, kernel)\n",
        "    mu2 = convolve(image2, kernel)\n",
        "\n",
        "    sigma1_sq = convolve(image1 ** 2, kernel) - mu1 ** 2\n",
        "    sigma2_sq = convolve(image2 ** 2, kernel) - mu2 ** 2\n",
        "    sigma12 = convolve(image1 * image2, kernel) - mu1 * mu2\n",
        "\n",
        "    numerator = (2 * mu1 * mu2 + C1) * (2 * sigma12 + C2)\n",
        "    denominator = (mu1 ** 2 + mu2 ** 2 + C1) * (sigma1_sq + sigma2_sq + C2)\n",
        "    ssim_map = numerator / denominator\n",
        "\n",
        "    return np.mean(ssim_map)\n",
        "\n",
        "def convolve(image, kernel):\n",
        "    kernel_height, kernel_width = kernel.shape\n",
        "    image_height, image_width = image.shape\n",
        "\n",
        "    pad_h = kernel_height // 2\n",
        "    pad_w = kernel_width // 2\n",
        "\n",
        "    padded_image = np.pad(image, ((pad_h, pad_h), (pad_w, pad_w)), mode='reflect')\n",
        "\n",
        "    convolved_image = np.zeros_like(image, dtype=np.float64)\n",
        "\n",
        "    for i in range(image_height):\n",
        "        for j in range(image_width):\n",
        "            region = padded_image[i:i + kernel_height, j:j + kernel_width]\n",
        "            convolved_image[i, j] = np.sum(region * kernel)\n",
        "\n",
        "    return convolved_image\n",
        "\n",
        "if __name__ == \"__main__\":\n",
        "\n",
        "    img1_path = \"/content/shirt1.jpg\"\n",
        "    img2_path = \"/content/shirt2.jpg\"\n",
        "\n",
        "    threshold = 0.999\n",
        "\n",
        "    img1 = cv2.imread(img1_path)\n",
        "    img2 = cv2.imread(img2_path)\n",
        "\n",
        "    if img1 is None or img2 is None:\n",
        "        print(f\"Error loading images: {img1_path} or {img2_path}\")\n",
        "    else:\n",
        "        img1 = cv2.resize(img1, (224, 224))\n",
        "        img2 = cv2.resize(img2, (224, 224))\n",
        "        img1 = cv2.cvtColor(img1, cv2.COLOR_BGR2GRAY)\n",
        "        img2 = cv2.cvtColor(img2, cv2.COLOR_BGR2GRAY)\n",
        "\n",
        "        ssim_value = calculate_ssim(img1, img2)\n",
        "        prediction = 1 if ssim_value >= threshold else 0\n",
        "\n",
        "        print(f\"SSIM between the images: {ssim_value}\")\n",
        "        print(f\"Prediction: {'Similar' if prediction == 1 else 'Different'}\")\n"
      ],
      "metadata": {
        "colab": {
          "base_uri": "https://localhost:8080/"
        },
        "id": "X0zk9VD9ySXz",
        "outputId": "1643a71c-be85-48d6-f7dd-a74d92ad5ae1"
      },
      "execution_count": 2,
      "outputs": [
        {
          "output_type": "stream",
          "name": "stdout",
          "text": [
            "SSIM between the images: 0.976658487165018\n",
            "Prediction: Different\n"
          ]
        }
      ]
    },
    {
      "cell_type": "markdown",
      "metadata": {
        "id": "Jfc8KBdHB86l"
      },
      "source": [
        "# Calculating MS_SIM score self_coded from scratch\n"
      ]
    },
    {
      "cell_type": "code",
      "execution_count": 3,
      "metadata": {
        "id": "WHDu8ADVCM4V",
        "colab": {
          "base_uri": "https://localhost:8080/"
        },
        "outputId": "b2d047a2-008d-4e8b-9f43-b404d2bcc05b"
      },
      "outputs": [
        {
          "output_type": "stream",
          "name": "stdout",
          "text": [
            "MS-SSIM between /content/shirt1.jpg and /content/shirt2.jpg: 0.9881687443072581 (Prediction: Similar)\n",
            "Accuracy: 0.00\n",
            "Precision: 1.00\n",
            "Recall: 1.00\n"
          ]
        }
      ],
      "source": [
        "import numpy as np\n",
        "import cv2\n",
        "\n",
        "def calculate_ms_ssim(image1, image2, window_size=11, K1=0.01, K2=0.03, L=255, levels=5):\n",
        "\n",
        "    if image1.shape != image2.shape:\n",
        "        raise ValueError(\"Input images must have the same dimensions.\")\n",
        "\n",
        "    C1 = (K1 * L) ** 2\n",
        "    C2 = (K2 * L) ** 2\n",
        "\n",
        "    def gaussian_kernel(size, sigma=1.5):\n",
        "        ax = np.arange(-(size // 2), size // 2 + 1, 1)\n",
        "        xx, yy = np.meshgrid(ax, ax)\n",
        "        kernel = np.exp(-(xx**2 + yy**2) / (2 * sigma**2))\n",
        "        return kernel / np.sum(kernel)\n",
        "\n",
        "    kernel = gaussian_kernel(window_size)\n",
        "\n",
        "    def ssim_at_scale(img1, img2, kernel, C1, C2):\n",
        "        mu1 = convolve(img1, kernel)\n",
        "        mu2 = convolve(img2, kernel)\n",
        "\n",
        "        sigma1_sq = convolve(img1 ** 2, kernel) - mu1 ** 2\n",
        "        sigma2_sq = convolve(img2 ** 2, kernel) - mu2 ** 2\n",
        "        sigma12 = convolve(img1 * img2, kernel) - mu1 * mu2\n",
        "\n",
        "        numerator = (2 * mu1 * mu2 + C1) * (2 * sigma12 + C2)\n",
        "        denominator = (mu1 ** 2 + mu2 ** 2 + C1) * (sigma1_sq + sigma2_sq + C2)\n",
        "        ssim_map = numerator / denominator\n",
        "\n",
        "        return np.mean(ssim_map)\n",
        "\n",
        "    ms_ssim_value = 1\n",
        "    for i in range(levels):\n",
        "        ssim_value = ssim_at_scale(image1, image2, kernel, C1, C2)\n",
        "        ms_ssim_value *= ssim_value\n",
        "\n",
        "        image1 = cv2.resize(image1, (image1.shape[1] // 2, image1.shape[0] // 2))\n",
        "        image2 = cv2.resize(image2, (image2.shape[1] // 2, image2.shape[0] // 2))\n",
        "\n",
        "    ms_ssim_value = ms_ssim_value ** (1 / levels)\n",
        "\n",
        "    return ms_ssim_value\n",
        "\n",
        "def convolve(image, kernel):\n",
        "    kernel_height, kernel_width = kernel.shape\n",
        "    image_height, image_width = image.shape\n",
        "\n",
        "    pad_h = kernel_height // 2\n",
        "    pad_w = kernel_width // 2\n",
        "\n",
        "    padded_image = np.pad(image, ((pad_h, pad_h), (pad_w, pad_w)), mode='reflect')\n",
        "\n",
        "    convolved_image = np.zeros_like(image, dtype=np.float64)\n",
        "\n",
        "    for i in range(image_height):\n",
        "        for j in range(image_width):\n",
        "            region = padded_image[i:i + kernel_height, j:j + kernel_width]\n",
        "            convolved_image[i, j] = np.sum(region * kernel)\n",
        "\n",
        "    return convolved_image\n",
        "\n",
        "if __name__ == \"__main__\":\n",
        "    image_pairs = []\n",
        "    image_pairs.append((\"/content/shirt1.jpg\", \"/content/shirt2.jpg\"))\n",
        "\n",
        "    ground_truth = [1] * 203 + [0]  # 1: similar, 0: different\n",
        "\n",
        "    threshold = 0.90\n",
        "    predictions = []\n",
        "\n",
        "    for img1_path, img2_path in image_pairs:\n",
        "        img1 = cv2.imread(img1_path)\n",
        "        img2 = cv2.imread(img2_path)\n",
        "\n",
        "        if img1 is None or img2 is None:\n",
        "            print(f\"Error loading images: {img1_path} or {img2_path}\")\n",
        "            predictions.append(0)\n",
        "            continue\n",
        "\n",
        "        img1 = cv2.resize(img1, (256, 256))\n",
        "        img2 = cv2.resize(img2, (256, 256))\n",
        "        img1 = cv2.cvtColor(img1, cv2.COLOR_BGR2GRAY)\n",
        "        img2 = cv2.cvtColor(img2, cv2.COLOR_BGR2GRAY)\n",
        "\n",
        "        ms_ssim_value = calculate_ms_ssim(img1, img2)\n",
        "        prediction = 1 if ms_ssim_value >= threshold else 0\n",
        "        predictions.append(prediction)\n",
        "\n",
        "        print(f\"MS-SSIM between {img1_path} and {img2_path}: {ms_ssim_value} (Prediction: {'Similar' if prediction == 1 else 'Different'})\")\n",
        "\n",
        "    true_positive = sum(1 for p, t in zip(predictions, ground_truth) if p == t == 1)\n",
        "    true_negative = sum(1 for p, t in zip(predictions, ground_truth) if p == t == 0)\n",
        "    false_positive = sum(1 for p, t in zip(predictions, ground_truth) if p == 1 and t == 0)\n",
        "    false_negative = sum(1 for p, t in zip(predictions, ground_truth) if p == 0 and t == 1)\n",
        "\n",
        "    accuracy = (true_positive + true_negative) / len(ground_truth)\n",
        "    precision = true_positive / (true_positive + false_positive) if (true_positive + false_positive) > 0 else 0\n",
        "    recall = true_positive / (true_positive + false_negative) if (true_positive + false_negative) > 0 else 0\n",
        "\n",
        "    print(f\"Accuracy: {accuracy:.2f}\")\n",
        "    print(f\"Precision: {precision:.2f}\")\n",
        "    print(f\"Recall: {recall:.2f}\")\n"
      ]
    },
    {
      "cell_type": "markdown",
      "source": [
        "# Using SSIM by directly importing SSIM from structural_similarity"
      ],
      "metadata": {
        "id": "Banp9ukFGECI"
      }
    },
    {
      "cell_type": "code",
      "source": [
        "from skimage.metrics import structural_similarity as ssim\n",
        "import cv2\n",
        "\n",
        "img1 = cv2.imread('/content/image_not_dup11.jpg')\n",
        "img2 = cv2.imread('/content/image_not_dup12.jpg')\n",
        "\n",
        "img1 = cv2.resize(img1, (224, 224))\n",
        "img2 = cv2.resize(img2, (224, 224))\n",
        "\n",
        "img1_gray = cv2.cvtColor(img1, cv2.COLOR_BGR2GRAY)\n",
        "img2_gray = cv2.cvtColor(img2, cv2.COLOR_BGR2GRAY)\n",
        "\n",
        "ssim_score, _ = ssim(img1_gray, img2_gray, full=True)\n",
        "\n",
        "threshold = 0.99\n",
        "prediction = 1 if ssim_score >= threshold else 0\n",
        "\n",
        "print(f\"SSIM between the images: {ssim_score} (Prediction: {'Similar' if prediction == 1 else 'Different'})\")\n"
      ],
      "metadata": {
        "id": "ibJAs045KXij",
        "colab": {
          "base_uri": "https://localhost:8080/"
        },
        "outputId": "b3829639-1943-47da-c236-91fb3cdf5b49"
      },
      "execution_count": 4,
      "outputs": [
        {
          "output_type": "stream",
          "name": "stdout",
          "text": [
            "SSIM between the images: 0.988676112105135 (Prediction: Different)\n"
          ]
        }
      ]
    },
    {
      "cell_type": "markdown",
      "source": [
        "# Image Similarity using VGGNET"
      ],
      "metadata": {
        "id": "bj4GYIdJJwMG"
      }
    },
    {
      "cell_type": "code",
      "source": [
        "import numpy as np\n",
        "from numpy import linalg as LA\n",
        "import torch\n",
        "import torch.nn as nn\n",
        "import numpy as np\n",
        "from torchvision import models, transforms\n",
        "from PIL import Image\n",
        "import os\n",
        "import h5py\n",
        "import matplotlib.pyplot as plt\n",
        "from sklearn.decomposition import PCA\n",
        "from mpl_toolkits.mplot3d import Axes3D\n",
        "from scipy.spatial import distance"
      ],
      "metadata": {
        "id": "qxox0N66AIKv"
      },
      "execution_count": 5,
      "outputs": []
    },
    {
      "cell_type": "code",
      "source": [
        "class VGGNet:\n",
        "    def __init__(self):\n",
        "        self.input_shape = (224, 224, 3)\n",
        "        self.model = models.vgg16(pretrained=True).features\n",
        "        self.model.eval()\n",
        "\n",
        "        self.transform = transforms.Compose([\n",
        "            transforms.Resize((224, 224)),\n",
        "            transforms.ToTensor(),\n",
        "            transforms.Normalize(mean=[0.485, 0.456, 0.406], std=[0.229, 0.224, 0.225])\n",
        "        ])\n",
        "\n",
        "    def extract_feat(self, img_path):\n",
        "        img = Image.open(img_path).convert('RGB')\n",
        "        img = self.transform(img).unsqueeze(0)\n",
        "\n",
        "        with torch.no_grad():\n",
        "            feat = self.model(img)\n",
        "\n",
        "        feat = feat.view(feat.size(0), -1)\n",
        "        norm_feat = feat / feat.norm()\n",
        "        return norm_feat.numpy().flatten()\n",
        "\n",
        "\n",
        "\n",
        "images_path1 = \"/content/shirt1.jpg\"\n",
        "images_path2 = \"/content/shirt2.jpg\"\n",
        "\n",
        "# images_path = \"/content/drive/MyDrive/human_images/images_humans\"\n",
        "# img_list = [os.path.join(images_path, f) for f in os.listdir(images_path) if f.lower().endswith(('png', 'jpg', 'jpeg'))]\n",
        "img_list = [images_path1, images_path2]\n",
        "print(\"Start feature extraction...\")\n",
        "\n",
        "model = VGGNet()\n",
        "\n",
        "feats = []\n",
        "names = []\n",
        "\n",
        "for im in img_list:\n",
        "    print(f\"Extracting features from image: {im}\")\n",
        "    X = model.extract_feat(im)\n",
        "    feats.append(X)\n",
        "    names.append(os.path.basename(im))\n",
        "\n",
        "feats = np.array(feats)\n",
        "\n",
        "output = \"CNNFeatures.h5\"\n",
        "print(f\"Writing feature extraction results to {output}\")\n",
        "\n",
        "with h5py.File(output, 'w') as h5f:\n",
        "    h5f.create_dataset('dataset_1', data=feats)\n",
        "    h5f.create_dataset('dataset_2', data=np.array(names, dtype='S'))\n",
        "\n",
        "print(\"Feature extraction and saving completed.\")\n",
        "\n",
        "\n",
        "# FEATURE EXTRACTION\n",
        "\n",
        "def plot_feature_space(features, query_feat, top_matches, imgNames, title=\"Feature Space Visualization\"):\n",
        "    \"\"\"Visualize high-dimensional features in 3D using PCA\"\"\"\n",
        "    pca = PCA(n_components=3)\n",
        "    all_features = np.vstack([features, query_feat.reshape(1, -1)])\n",
        "    features_3d = pca.fit_transform(all_features)\n",
        "\n",
        "    db_features_3d = features_3d[:-1]\n",
        "    query_feature_3d = features_3d[-1]\n",
        "\n",
        "    fig = plt.figure(figsize=(12, 8))\n",
        "    ax = fig.add_subplot(111, projection='3d')\n",
        "\n",
        "    ax.scatter(db_features_3d[:, 0], db_features_3d[:, 1], db_features_3d[:, 2],\n",
        "              c='blue', alpha=0.5, label='Database features')\n",
        "\n",
        "    ax.scatter(query_feature_3d[0], query_feature_3d[1], query_feature_3d[2],\n",
        "              c='red', s=100, label='Query image')\n",
        "\n",
        "    matches_3d = db_features_3d[top_matches]\n",
        "    ax.scatter(matches_3d[:, 0], matches_3d[:, 1], matches_3d[:, 2],\n",
        "              c='green', s=100, label='Top matches')\n",
        "\n",
        "    for i, match_idx in enumerate(top_matches):\n",
        "        img_name = imgNames[match_idx].decode('utf-8') if isinstance(imgNames[match_idx], bytes) else imgNames[match_idx]\n",
        "        ax.text(matches_3d[i, 0], matches_3d[i, 1], matches_3d[i, 2], f'{i+1}. {img_name}')\n",
        "\n",
        "    ax.set_xlabel('PC1')\n",
        "    ax.set_ylabel('PC2')\n",
        "    ax.set_zlabel('PC3')\n",
        "    ax.set_title(title)\n",
        "    ax.legend()\n",
        "    plt.show()\n",
        "\n",
        "with h5py.File(\"CNNFeatures.h5\", 'r') as h5f:\n",
        "    feats = h5f['dataset_1'][:]\n",
        "    imgNames = h5f['dataset_2'][:]\n",
        "\n",
        "queryImg = \"/content/shirt1.jpg\"\n",
        "model = VGGNet()\n",
        "query_feat = model.extract_feat(queryImg)\n",
        "\n",
        "scores = []\n",
        "for i in range(feats.shape[0]):\n",
        "    score = 1 - distance.cosine(query_feat, feats[i])\n",
        "    scores.append(score)\n",
        "scores = np.array(scores)\n",
        "\n",
        "rank_ID = np.argsort(scores)[::-1]\n",
        "rank_score = scores[rank_ID]\n",
        "\n",
        "top_n = 2\n",
        "top_matches = rank_ID[:top_n]\n",
        "top_scores = rank_score[:top_n]\n",
        "\n",
        "print(f\"Top {top_n} matches with similarity scores:\")\n",
        "for i, (image_id, score) in enumerate(zip(top_matches, top_scores)):\n",
        "    image_name = imgNames[image_id].decode('utf-8') if isinstance(imgNames[image_id], bytes) else imgNames[image_id]\n",
        "    print(f\"{i+1}. Image: {image_name}, Score: {score:.4f}\")\n",
        "\n",
        "plot_feature_space(feats, query_feat, top_matches, imgNames, \"VGG16 Feature Space - Image Retrieval Results\")\n"
      ],
      "metadata": {
        "id": "ax8L5zAW_Pbo",
        "colab": {
          "base_uri": "https://localhost:8080/",
          "height": 938
        },
        "outputId": "1736099f-8dbe-47c2-bb6e-50159153a279"
      },
      "execution_count": 6,
      "outputs": [
        {
          "output_type": "stream",
          "name": "stdout",
          "text": [
            "Start feature extraction...\n"
          ]
        },
        {
          "output_type": "stream",
          "name": "stderr",
          "text": [
            "/usr/local/lib/python3.11/dist-packages/torchvision/models/_utils.py:208: UserWarning: The parameter 'pretrained' is deprecated since 0.13 and may be removed in the future, please use 'weights' instead.\n",
            "  warnings.warn(\n",
            "/usr/local/lib/python3.11/dist-packages/torchvision/models/_utils.py:223: UserWarning: Arguments other than a weight enum or `None` for 'weights' are deprecated since 0.13 and may be removed in the future. The current behavior is equivalent to passing `weights=VGG16_Weights.IMAGENET1K_V1`. You can also use `weights=VGG16_Weights.DEFAULT` to get the most up-to-date weights.\n",
            "  warnings.warn(msg)\n",
            "Downloading: \"https://download.pytorch.org/models/vgg16-397923af.pth\" to /root/.cache/torch/hub/checkpoints/vgg16-397923af.pth\n",
            "100%|██████████| 528M/528M [00:10<00:00, 52.1MB/s]\n"
          ]
        },
        {
          "output_type": "stream",
          "name": "stdout",
          "text": [
            "Extracting features from image: /content/shirt1.jpg\n",
            "Extracting features from image: /content/shirt2.jpg\n",
            "Writing feature extraction results to CNNFeatures.h5\n",
            "Feature extraction and saving completed.\n",
            "Top 2 matches with similarity scores:\n",
            "1. Image: shirt1.jpg, Score: 1.0000\n",
            "2. Image: shirt2.jpg, Score: 0.9379\n"
          ]
        },
        {
          "output_type": "display_data",
          "data": {
            "text/plain": [
              "<Figure size 1200x800 with 1 Axes>"
            ],
            "image/png": "[encoded data removed]"
          },
          "metadata": {}
        }
      ]
    },
    {
      "cell_type": "markdown",
      "source": [
        "# Similarity using HISTOGRAM approach"
      ],
      "metadata": {
        "id": "okBZ19eXGO6d"
      }
    },
    {
      "cell_type": "code",
      "source": [
        "import cv2\n",
        "# Load images\n",
        "image1 = '/content/shirt1.jpg'\n",
        "image2 = '/content/shirt2.jpg'\n",
        "\n",
        "image1 = cv2.imread(image1)\n",
        "image2 = cv2.imread(image2)\n",
        "\n",
        "image1 = cv2.cvtColor(image1, cv2.COLOR_BGR2RGB)\n",
        "image2 = cv2.cvtColor(image2, cv2.COLOR_BGR2RGB)\n",
        "\n",
        "hist_img1 = cv2.calcHist([image1], [0, 1, 2], None, [256, 256, 256], [0, 256, 0, 256, 0, 256])\n",
        "hist_img1[255, 255, 255] = 0\n",
        "cv2.normalize(hist_img1, hist_img1, alpha=0, beta=1, norm_type=cv2.NORM_MINMAX)\n",
        "hist_img2 = cv2.calcHist([image2], [0, 1, 2], None, [256, 256, 256], [0, 256, 0, 256, 0, 256])\n",
        "hist_img2[255, 255, 255] = 0\n",
        "cv2.normalize(hist_img2, hist_img2, alpha=0, beta=1, norm_type=cv2.NORM_MINMAX)\n",
        "metric_val = cv2.compareHist(hist_img1, hist_img2, cv2.HISTCMP_CORREL)\n",
        "print(f\"Similarity Score: \", round(metric_val, 2))"
      ],
      "metadata": {
        "id": "2urxBSnxB4T-",
        "colab": {
          "base_uri": "https://localhost:8080/"
        },
        "outputId": "87114a50-cc12-4426-cc71-b2499c7297bd"
      },
      "execution_count": 7,
      "outputs": [
        {
          "output_type": "stream",
          "name": "stdout",
          "text": [
            "Similarity Score:  0.64\n"
          ]
        }
      ]
    },
    {
      "cell_type": "markdown",
      "source": [
        "## SSIM from scratch code"
      ],
      "metadata": {
        "id": "B8Zzrlq2l679"
      }
    },
    {
      "cell_type": "code",
      "source": [
        "import math\n",
        "import numpy as np\n",
        "import cv2\n",
        "\n",
        "def ssim(img1, img2):\n",
        "    C1 = (0.01 * 255)**2\n",
        "    C2 = (0.03 * 255)**2\n",
        "\n",
        "    img1 = img1.astype(np.float64)\n",
        "    img2 = img2.astype(np.float64)\n",
        "    kernel = cv2.getGaussianKernel(11, 1.5)\n",
        "    window = np.outer(kernel, kernel.transpose())\n",
        "\n",
        "    mu1 = cv2.filter2D(img1, -1, window)[5:-5, 5:-5]  # valid\n",
        "    mu2 = cv2.filter2D(img2, -1, window)[5:-5, 5:-5]\n",
        "    mu1_sq = mu1**2\n",
        "    mu2_sq = mu2**2\n",
        "    mu1_mu2 = mu1 * mu2\n",
        "    sigma1_sq = cv2.filter2D(img1**2, -1, window)[5:-5, 5:-5] - mu1_sq\n",
        "    sigma2_sq = cv2.filter2D(img2**2, -1, window)[5:-5, 5:-5] - mu2_sq\n",
        "    sigma12 = cv2.filter2D(img1 * img2, -1, window)[5:-5, 5:-5] - mu1_mu2\n",
        "\n",
        "    ssim_map = ((2 * mu1_mu2 + C1) * (2 * sigma12 + C2)) / ((mu1_sq + mu2_sq + C1) *\n",
        "                                                            (sigma1_sq + sigma2_sq + C2))\n",
        "    return ssim_map.mean()\n",
        "\n",
        "\n",
        "def calculate_ssim(img1, img2):\n",
        "    if not img1.shape == img2.shape:\n",
        "        raise ValueError('Input images must have the same dimensions.')\n",
        "    if img1.ndim == 2:\n",
        "        return ssim(img1, img2)\n",
        "    elif img1.ndim == 3:\n",
        "        if img1.shape[2] == 3:\n",
        "            ssims = []\n",
        "            for i in range(3):\n",
        "                ssims.append(ssim(img1, img2))\n",
        "            return np.array(ssims).mean()\n",
        "        elif img1.shape[2] == 1:\n",
        "            return ssim(np.squeeze(img1), np.squeeze(img2))\n",
        "    else:\n",
        "        raise ValueError('Wrong input image dimensions.')\n",
        "\n",
        "img1 = cv2.imread('/content/image_not_dup11.jpg')\n",
        "img2 = cv2.imread('/content/image_not_dup12.jpg')\n",
        "\n",
        "img1 = cv2.resize(img1, (224, 224))\n",
        "img2 = cv2.resize(img2, (224, 224))\n",
        "\n",
        "img1_gray = cv2.cvtColor(img1, cv2.COLOR_BGR2GRAY)\n",
        "img2_gray = cv2.cvtColor(img2, cv2.COLOR_BGR2GRAY)\n",
        "\n",
        "threshold = 0.99\n",
        "ssim_score = calculate_ssim(img1_gray, img2_gray)\n",
        "\n",
        "print(f\"SSIM between the images: {ssim_score}\")\n",
        "prediction = 1 if ssim_score >= threshold else 0\n",
        "print(f\"Prediction: {'Similar' if prediction == 1 else 'Different'}\")"
      ],
      "metadata": {
        "id": "VLBXzzV9j5Cg",
        "colab": {
          "base_uri": "https://localhost:8080/"
        },
        "outputId": "ce82527e-b5fd-407a-caf7-321cbfbfbd23"
      },
      "execution_count": 8,
      "outputs": [
        {
          "output_type": "stream",
          "name": "stdout",
          "text": [
            "SSIM between the images: 0.9884940981108292\n",
            "Prediction: Different\n"
          ]
        }
      ]
    },
    {
      "cell_type": "markdown",
      "source": [
        "# MS-SSIM from scratch"
      ],
      "metadata": {
        "id": "9ZSeOKvzIyrl"
      }
    },
    {
      "cell_type": "code",
      "source": [
        "import numpy as np\n",
        "import cv2\n",
        "\n",
        "def ssim(img1, img2):\n",
        "    C1 = (0.01 * 255) ** 2\n",
        "    C2 = (0.03 * 255) ** 2\n",
        "\n",
        "    img1 = img1.astype(np.float64)\n",
        "    img2 = img2.astype(np.float64)\n",
        "\n",
        "    kernel = cv2.getGaussianKernel(11, 1.5)\n",
        "    window = np.outer(kernel, kernel.transpose())\n",
        "\n",
        "    mu1 = cv2.filter2D(img1, -1, window)[5:-5, 5:-5]\n",
        "    mu2 = cv2.filter2D(img2, -1, window)[5:-5, 5:-5]\n",
        "    mu1_sq = mu1 ** 2\n",
        "    mu2_sq = mu2 ** 2\n",
        "    mu1_mu2 = mu1 * mu2\n",
        "\n",
        "    sigma1_sq = cv2.filter2D(img1 ** 2, -1, window)[5:-5, 5:-5] - mu1_sq\n",
        "    sigma2_sq = cv2.filter2D(img2 ** 2, -1, window)[5:-5, 5:-5] - mu2_sq\n",
        "    sigma12 = cv2.filter2D(img1 * img2, -1, window)[5:-5, 5:-5] - mu1_mu2\n",
        "\n",
        "    ssim_map = ((2 * mu1_mu2 + C1) * (2 * sigma12 + C2)) / (\n",
        "        (mu1_sq + mu2_sq + C1) * (sigma1_sq + sigma2_sq + C2)\n",
        "    )\n",
        "\n",
        "    return ssim_map.mean()\n",
        "\n",
        "def calculate_ms_ssim(img1, img2, levels=5):\n",
        "    C1 = (0.01 * 255) ** 2\n",
        "    C2 = (0.03 * 255) ** 2\n",
        "\n",
        "    if not img1.shape == img2.shape:\n",
        "        raise ValueError(\"Input images must have the same dimensions.\")\n",
        "\n",
        "    if img1.ndim == 3:\n",
        "        img1 = cv2.cvtColor(img1, cv2.COLOR_BGR2GRAY)\n",
        "    if img2.ndim == 3:\n",
        "        img2 = cv2.cvtColor(img2, cv2.COLOR_BGR2GRAY)\n",
        "\n",
        "    ms_ssim_value = 1.0\n",
        "    weights = [0.0448, 0.2856, 0.3001, 0.2363, 0.1333]\n",
        "\n",
        "    for i in range(levels):\n",
        "        ssim_value = ssim(img1, img2)\n",
        "        ms_ssim_value *= ssim_value ** weights[i]\n",
        "\n",
        "        img1 = cv2.resize(img1, (img1.shape[1] // 2, img1.shape[0] // 2))\n",
        "        img2 = cv2.resize(img2, (img2.shape[1] // 2, img2.shape[0] // 2))\n",
        "\n",
        "    return ms_ssim_value\n",
        "\n",
        "# Load the images\n",
        "image_path1 = '/content/shirt1.jpg'\n",
        "image_path2 = '/content/shirt2.jpg'\n",
        "\n",
        "img1 = cv2.imread(image_path1)\n",
        "img2 = cv2.imread(image_path2)\n",
        "\n",
        "if img1 is None or img2 is None:\n",
        "    print(f\"Error: One or both image paths are incorrect: {image_path1}, {image_path2}\")\n",
        "else:\n",
        "    img1 = cv2.resize(img1, (224, 224))\n",
        "    img2 = cv2.resize(img2, (224, 224))\n",
        "\n",
        "    threshold = 0.9\n",
        "    ms_ssim_score = calculate_ms_ssim(img1, img2)\n",
        "\n",
        "    print(f\"MS-SSIM between the images: {ms_ssim_score}\")\n",
        "    prediction = 1 if ms_ssim_score >= threshold else 0\n",
        "    print(f\"Prediction: {'Similar' if prediction == 1 else 'Different'}\")\n"
      ],
      "metadata": {
        "id": "VRbqT1rKl1Fr",
        "colab": {
          "base_uri": "https://localhost:8080/"
        },
        "outputId": "bcd2b633-4502-4740-ec58-d01acd9f944c"
      },
      "execution_count": 9,
      "outputs": [
        {
          "output_type": "stream",
          "name": "stdout",
          "text": [
            "MS-SSIM between the images: 0.7987758966942411\n",
            "Prediction: Different\n"
          ]
        }
      ]
    },
    {
      "cell_type": "markdown",
      "source": [
        "# MS-SSIM from pytorch"
      ],
      "metadata": {
        "id": "uRN6PYR3HRJO"
      }
    },
    {
      "cell_type": "code",
      "source": [
        "!pip install pytorch-msssim\n",
        "import torch\n",
        "import cv2\n",
        "import pytorch_msssim\n",
        "\n",
        "device = torch.device('cuda' if torch.cuda.is_available() else 'cpu')\n",
        "\n",
        "img1 = cv2.imread('/content/shirt1.jpg')\n",
        "img2 = cv2.imread('/content/shirt2.jpg')\n",
        "\n",
        "img1 = cv2.resize(img1, (256, 256))\n",
        "img2 = cv2.resize(img2, (256, 256))\n",
        "\n",
        "img1 = cv2.cvtColor(img1, cv2.COLOR_BGR2RGB)\n",
        "img2 = cv2.cvtColor(img2, cv2.COLOR_BGR2RGB)\n",
        "\n",
        "img1_tensor = torch.from_numpy(img1).float().unsqueeze(0).permute(0, 3, 1, 2) / 255.0\n",
        "img2_tensor = torch.from_numpy(img2).float().unsqueeze(0).permute(0, 3, 1, 2) / 255.0\n",
        "\n",
        "img1_tensor = img1_tensor.to(device)\n",
        "img2_tensor = img2_tensor.to(device)\n",
        "\n",
        "ssim_value = pytorch_msssim.ssim(img1_tensor, img2_tensor, data_range=1.0, size_average=True)\n",
        "\n",
        "print(f\"SSIM between the images: {ssim_value.item()}\")\n"
      ],
      "metadata": {
        "id": "G726F2AIUm2b",
        "colab": {
          "base_uri": "https://localhost:8080/"
        },
        "outputId": "c273ca86-c435-4be3-f9b5-0327ff631cf5"
      },
      "execution_count": 10,
      "outputs": [
        {
          "output_type": "stream",
          "name": "stdout",
          "text": [
            "Collecting pytorch-msssim\n",
            "  Downloading pytorch_msssim-1.0.0-py3-none-any.whl.metadata (8.0 kB)\n",
            "Requirement already satisfied: torch in /usr/local/lib/python3.11/dist-packages (from pytorch-msssim) (2.5.1+cu124)\n",
            "Requirement already satisfied: filelock in /usr/local/lib/python3.11/dist-packages (from torch->pytorch-msssim) (3.17.0)\n",
            "Requirement already satisfied: typing-extensions>=4.8.0 in /usr/local/lib/python3.11/dist-packages (from torch->pytorch-msssim) (4.12.2)\n",
            "Requirement already satisfied: networkx in /usr/local/lib/python3.11/dist-packages (from torch->pytorch-msssim) (3.4.2)\n",
            "Requirement already satisfied: jinja2 in /usr/local/lib/python3.11/dist-packages (from torch->pytorch-msssim) (3.1.5)\n",
            "Requirement already satisfied: fsspec in /usr/local/lib/python3.11/dist-packages (from torch->pytorch-msssim) (2024.10.0)\n",
            "Collecting nvidia-cuda-nvrtc-cu12==12.4.127 (from torch->pytorch-msssim)\n",
            "  Downloading nvidia_cuda_nvrtc_cu12-12.4.127-py3-none-manylinux2014_x86_64.whl.metadata (1.5 kB)\n",
            "Collecting nvidia-cuda-runtime-cu12==12.4.127 (from torch->pytorch-msssim)\n",
            "  Downloading nvidia_cuda_runtime_cu12-12.4.127-py3-none-manylinux2014_x86_64.whl.metadata (1.5 kB)\n",
            "Collecting nvidia-cuda-cupti-cu12==12.4.127 (from torch->pytorch-msssim)\n",
            "  Downloading nvidia_cuda_cupti_cu12-12.4.127-py3-none-manylinux2014_x86_64.whl.metadata (1.6 kB)\n",
            "Collecting nvidia-cudnn-cu12==9.1.0.70 (from torch->pytorch-msssim)\n",
            "  Downloading nvidia_cudnn_cu12-9.1.0.70-py3-none-manylinux2014_x86_64.whl.metadata (1.6 kB)\n",
            "Collecting nvidia-cublas-cu12==12.4.5.8 (from torch->pytorch-msssim)\n",
            "  Downloading nvidia_cublas_cu12-12.4.5.8-py3-none-manylinux2014_x86_64.whl.metadata (1.5 kB)\n",
            "Collecting nvidia-cufft-cu12==11.2.1.3 (from torch->pytorch-msssim)\n",
            "  Downloading nvidia_cufft_cu12-11.2.1.3-py3-none-manylinux2014_x86_64.whl.metadata (1.5 kB)\n",
            "Collecting nvidia-curand-cu12==10.3.5.147 (from torch->pytorch-msssim)\n",
            "  Downloading nvidia_curand_cu12-10.3.5.147-py3-none-manylinux2014_x86_64.whl.metadata (1.5 kB)\n",
            "Collecting nvidia-cusolver-cu12==11.6.1.9 (from torch->pytorch-msssim)\n",
            "  Downloading nvidia_cusolver_cu12-11.6.1.9-py3-none-manylinux2014_x86_64.whl.metadata (1.6 kB)\n",
            "Collecting nvidia-cusparse-cu12==12.3.1.170 (from torch->pytorch-msssim)\n",
            "  Downloading nvidia_cusparse_cu12-12.3.1.170-py3-none-manylinux2014_x86_64.whl.metadata (1.6 kB)\n",
            "Requirement already satisfied: nvidia-nccl-cu12==2.21.5 in /usr/local/lib/python3.11/dist-packages (from torch->pytorch-msssim) (2.21.5)\n",
            "Requirement already satisfied: nvidia-nvtx-cu12==12.4.127 in /usr/local/lib/python3.11/dist-packages (from torch->pytorch-msssim) (12.4.127)\n",
            "Collecting nvidia-nvjitlink-cu12==12.4.127 (from torch->pytorch-msssim)\n",
            "  Downloading nvidia_nvjitlink_cu12-12.4.127-py3-none-manylinux2014_x86_64.whl.metadata (1.5 kB)\n",
            "Requirement already satisfied: triton==3.1.0 in /usr/local/lib/python3.11/dist-packages (from torch->pytorch-msssim) (3.1.0)\n",
            "Requirement already satisfied: sympy==1.13.1 in /usr/local/lib/python3.11/dist-packages (from torch->pytorch-msssim) (1.13.1)\n",
            "Requirement already satisfied: mpmath<1.4,>=1.1.0 in /usr/local/lib/python3.11/dist-packages (from sympy==1.13.1->torch->pytorch-msssim) (1.3.0)\n",
            "Requirement already satisfied: MarkupSafe>=2.0 in /usr/local/lib/python3.11/dist-packages (from jinja2->torch->pytorch-msssim) (3.0.2)\n",
            "Downloading pytorch_msssim-1.0.0-py3-none-any.whl (7.7 kB)\n",
            "Downloading nvidia_cublas_cu12-12.4.5.8-py3-none-manylinux2014_x86_64.whl (363.4 MB)\n",
            "\u001b[2K   \u001b[90m━━━━━━━━━━━━━━━━━━━━━━━━━━━━━━━━━━━━━━━━\u001b[0m \u001b[32m363.4/363.4 MB\u001b[0m \u001b[31m4.5 MB/s\u001b[0m eta \u001b[36m0:00:00\u001b[0m\n",
            "\u001b[?25hDownloading nvidia_cuda_cupti_cu12-12.4.127-py3-none-manylinux2014_x86_64.whl (13.8 MB)\n",
            "\u001b[2K   \u001b[90m━━━━━━━━━━━━━━━━━━━━━━━━━━━━━━━━━━━━━━━━\u001b[0m \u001b[32m13.8/13.8 MB\u001b[0m \u001b[31m94.7 MB/s\u001b[0m eta \u001b[36m0:00:00\u001b[0m\n",
            "\u001b[?25hDownloading nvidia_cuda_nvrtc_cu12-12.4.127-py3-none-manylinux2014_x86_64.whl (24.6 MB)\n",
            "\u001b[2K   \u001b[90m━━━━━━━━━━━━━━━━━━━━━━━━━━━━━━━━━━━━━━━━\u001b[0m \u001b[32m24.6/24.6 MB\u001b[0m \u001b[31m68.7 MB/s\u001b[0m eta \u001b[36m0:00:00\u001b[0m\n",
            "\u001b[?25hDownloading nvidia_cuda_runtime_cu12-12.4.127-py3-none-manylinux2014_x86_64.whl (883 kB)\n",
            "\u001b[2K   \u001b[90m━━━━━━━━━━━━━━━━━━━━━━━━━━━━━━━━━━━━━━━━\u001b[0m \u001b[32m883.7/883.7 kB\u001b[0m \u001b[31m40.8 MB/s\u001b[0m eta \u001b[36m0:00:00\u001b[0m\n",
            "\u001b[?25hDownloading nvidia_cudnn_cu12-9.1.0.70-py3-none-manylinux2014_x86_64.whl (664.8 MB)\n",
            "\u001b[2K   \u001b[90m━━━━━━━━━━━━━━━━━━━━━━━━━━━━━━━━━━━━━━━━\u001b[0m \u001b[32m664.8/664.8 MB\u001b[0m \u001b[31m1.4 MB/s\u001b[0m eta \u001b[36m0:00:00\u001b[0m\n",
            "\u001b[?25hDownloading nvidia_cufft_cu12-11.2.1.3-py3-none-manylinux2014_x86_64.whl (211.5 MB)\n",
            "\u001b[2K   \u001b[90m━━━━━━━━━━━━━━━━━━━━━━━━━━━━━━━━━━━━━━━━\u001b[0m \u001b[32m211.5/211.5 MB\u001b[0m \u001b[31m6.4 MB/s\u001b[0m eta \u001b[36m0:00:00\u001b[0m\n",
            "\u001b[?25hDownloading nvidia_curand_cu12-10.3.5.147-py3-none-manylinux2014_x86_64.whl (56.3 MB)\n",
            "\u001b[2K   \u001b[90m━━━━━━━━━━━━━━━━━━━━━━━━━━━━━━━━━━━━━━━━\u001b[0m \u001b[32m56.3/56.3 MB\u001b[0m \u001b[31m19.3 MB/s\u001b[0m eta \u001b[36m0:00:00\u001b[0m\n",
            "\u001b[?25hDownloading nvidia_cusolver_cu12-11.6.1.9-py3-none-manylinux2014_x86_64.whl (127.9 MB)\n",
            "\u001b[2K   \u001b[90m━━━━━━━━━━━━━━━━━━━━━━━━━━━━━━━━━━━━━━━━\u001b[0m \u001b[32m127.9/127.9 MB\u001b[0m \u001b[31m7.8 MB/s\u001b[0m eta \u001b[36m0:00:00\u001b[0m\n",
            "\u001b[?25hDownloading nvidia_cusparse_cu12-12.3.1.170-py3-none-manylinux2014_x86_64.whl (207.5 MB)\n",
            "\u001b[2K   \u001b[90m━━━━━━━━━━━━━━━━━━━━━━━━━━━━━━━━━━━━━━━━\u001b[0m \u001b[32m207.5/207.5 MB\u001b[0m \u001b[31m4.5 MB/s\u001b[0m eta \u001b[36m0:00:00\u001b[0m\n",
            "\u001b[?25hDownloading nvidia_nvjitlink_cu12-12.4.127-py3-none-manylinux2014_x86_64.whl (21.1 MB)\n",
            "\u001b[2K   \u001b[90m━━━━━━━━━━━━━━━━━━━━━━━━━━━━━━━━━━━━━━━━\u001b[0m \u001b[32m21.1/21.1 MB\u001b[0m \u001b[31m45.5 MB/s\u001b[0m eta \u001b[36m0:00:00\u001b[0m\n",
            "\u001b[?25hInstalling collected packages: nvidia-nvjitlink-cu12, nvidia-curand-cu12, nvidia-cufft-cu12, nvidia-cuda-runtime-cu12, nvidia-cuda-nvrtc-cu12, nvidia-cuda-cupti-cu12, nvidia-cublas-cu12, nvidia-cusparse-cu12, nvidia-cudnn-cu12, nvidia-cusolver-cu12, pytorch-msssim\n",
            "  Attempting uninstall: nvidia-nvjitlink-cu12\n",
            "    Found existing installation: nvidia-nvjitlink-cu12 12.5.82\n",
            "    Uninstalling nvidia-nvjitlink-cu12-12.5.82:\n",
            "      Successfully uninstalled nvidia-nvjitlink-cu12-12.5.82\n",
            "  Attempting uninstall: nvidia-curand-cu12\n",
            "    Found existing installation: nvidia-curand-cu12 10.3.6.82\n",
            "    Uninstalling nvidia-curand-cu12-10.3.6.82:\n",
            "      Successfully uninstalled nvidia-curand-cu12-10.3.6.82\n",
            "  Attempting uninstall: nvidia-cufft-cu12\n",
            "    Found existing installation: nvidia-cufft-cu12 11.2.3.61\n",
            "    Uninstalling nvidia-cufft-cu12-11.2.3.61:\n",
            "      Successfully uninstalled nvidia-cufft-cu12-11.2.3.61\n",
            "  Attempting uninstall: nvidia-cuda-runtime-cu12\n",
            "    Found existing installation: nvidia-cuda-runtime-cu12 12.5.82\n",
            "    Uninstalling nvidia-cuda-runtime-cu12-12.5.82:\n",
            "      Successfully uninstalled nvidia-cuda-runtime-cu12-12.5.82\n",
            "  Attempting uninstall: nvidia-cuda-nvrtc-cu12\n",
            "    Found existing installation: nvidia-cuda-nvrtc-cu12 12.5.82\n",
            "    Uninstalling nvidia-cuda-nvrtc-cu12-12.5.82:\n",
            "      Successfully uninstalled nvidia-cuda-nvrtc-cu12-12.5.82\n",
            "  Attempting uninstall: nvidia-cuda-cupti-cu12\n",
            "    Found existing installation: nvidia-cuda-cupti-cu12 12.5.82\n",
            "    Uninstalling nvidia-cuda-cupti-cu12-12.5.82:\n",
            "      Successfully uninstalled nvidia-cuda-cupti-cu12-12.5.82\n",
            "  Attempting uninstall: nvidia-cublas-cu12\n",
            "    Found existing installation: nvidia-cublas-cu12 12.5.3.2\n",
            "    Uninstalling nvidia-cublas-cu12-12.5.3.2:\n",
            "      Successfully uninstalled nvidia-cublas-cu12-12.5.3.2\n",
            "  Attempting uninstall: nvidia-cusparse-cu12\n",
            "    Found existing installation: nvidia-cusparse-cu12 12.5.1.3\n",
            "    Uninstalling nvidia-cusparse-cu12-12.5.1.3:\n",
            "      Successfully uninstalled nvidia-cusparse-cu12-12.5.1.3\n",
            "  Attempting uninstall: nvidia-cudnn-cu12\n",
            "    Found existing installation: nvidia-cudnn-cu12 9.3.0.75\n",
            "    Uninstalling nvidia-cudnn-cu12-9.3.0.75:\n",
            "      Successfully uninstalled nvidia-cudnn-cu12-9.3.0.75\n",
            "  Attempting uninstall: nvidia-cusolver-cu12\n",
            "    Found existing installation: nvidia-cusolver-cu12 11.6.3.83\n",
            "    Uninstalling nvidia-cusolver-cu12-11.6.3.83:\n",
            "      Successfully uninstalled nvidia-cusolver-cu12-11.6.3.83\n",
            "Successfully installed nvidia-cublas-cu12-12.4.5.8 nvidia-cuda-cupti-cu12-12.4.127 nvidia-cuda-nvrtc-cu12-12.4.127 nvidia-cuda-runtime-cu12-12.4.127 nvidia-cudnn-cu12-9.1.0.70 nvidia-cufft-cu12-11.2.1.3 nvidia-curand-cu12-10.3.5.147 nvidia-cusolver-cu12-11.6.1.9 nvidia-cusparse-cu12-12.3.1.170 nvidia-nvjitlink-cu12-12.4.127 pytorch-msssim-1.0.0\n",
            "SSIM between the images: 0.5894050598144531\n"
          ]
        }
      ]
    },
    {
      "cell_type": "markdown",
      "source": [
        "# using MS-SIM from Torch.metrics"
      ],
      "metadata": {
        "id": "mZdv1qtRHnh4"
      }
    },
    {
      "cell_type": "code",
      "source": [
        "# from torch import rand\n",
        "# from torchmetrics.image import MultiScaleStructuralSimilarityIndexMeasure\n",
        "# preds = torch.rand([3, 3, 256, 256])\n",
        "# target = preds * 0.75\n",
        "# ms_ssim = MultiScaleStructuralSimilarityIndexMeasure(data_range=1.0)\n",
        "# ms_ssim(preds, target)\n",
        "\n",
        "!pip install torchmetrics\n",
        "\n",
        "import torch\n",
        "import cv2\n",
        "from torchmetrics.image import MultiScaleStructuralSimilarityIndexMeasure\n",
        "\n",
        "img1 = cv2.imread('/content/shirt1.jpg')\n",
        "img2 = cv2.imread('/content/shirt2.jpg')\n",
        "\n",
        "img1 = cv2.resize(img1, (256, 256))\n",
        "img2 = cv2.resize(img2, (256, 256))\n",
        "\n",
        "img1 = cv2.cvtColor(img1, cv2.COLOR_BGR2RGB)\n",
        "img2 = cv2.cvtColor(img2, cv2.COLOR_BGR2RGB)\n",
        "\n",
        "img1_tensor = torch.from_numpy(img1).float().unsqueeze(0).permute(0, 3, 1, 2) / 255.0\n",
        "img2_tensor = torch.from_numpy(img2).float().unsqueeze(0).permute(0, 3, 1, 2) / 255.0\n",
        "\n",
        "ms_ssim = MultiScaleStructuralSimilarityIndexMeasure(data_range=1.0)\n",
        "\n",
        "ms_ssim_score = ms_ssim(img1_tensor, img2_tensor)\n",
        "\n",
        "print(f\"MS-SSIM between the images: {ms_ssim_score.item()}\")\n"
      ],
      "metadata": {
        "id": "ksaz8D-nqmTT",
        "colab": {
          "base_uri": "https://localhost:8080/"
        },
        "outputId": "a2d3c007-eb55-4256-831a-6b0f35a6f7a7"
      },
      "execution_count": 11,
      "outputs": [
        {
          "output_type": "stream",
          "name": "stdout",
          "text": [
            "Collecting torchmetrics\n",
            "  Downloading torchmetrics-1.6.2-py3-none-any.whl.metadata (20 kB)\n",
            "Requirement already satisfied: numpy>1.20.0 in /usr/local/lib/python3.11/dist-packages (from torchmetrics) (1.26.4)\n",
            "Requirement already satisfied: packaging>17.1 in /usr/local/lib/python3.11/dist-packages (from torchmetrics) (24.2)\n",
            "Requirement already satisfied: torch>=2.0.0 in /usr/local/lib/python3.11/dist-packages (from torchmetrics) (2.5.1+cu124)\n",
            "Collecting lightning-utilities>=0.8.0 (from torchmetrics)\n",
            "  Downloading lightning_utilities-0.14.0-py3-none-any.whl.metadata (5.6 kB)\n",
            "Requirement already satisfied: setuptools in /usr/local/lib/python3.11/dist-packages (from lightning-utilities>=0.8.0->torchmetrics) (75.1.0)\n",
            "Requirement already satisfied: typing_extensions in /usr/local/lib/python3.11/dist-packages (from lightning-utilities>=0.8.0->torchmetrics) (4.12.2)\n",
            "Requirement already satisfied: filelock in /usr/local/lib/python3.11/dist-packages (from torch>=2.0.0->torchmetrics) (3.17.0)\n",
            "Requirement already satisfied: networkx in /usr/local/lib/python3.11/dist-packages (from torch>=2.0.0->torchmetrics) (3.4.2)\n",
            "Requirement already satisfied: jinja2 in /usr/local/lib/python3.11/dist-packages (from torch>=2.0.0->torchmetrics) (3.1.5)\n",
            "Requirement already satisfied: fsspec in /usr/local/lib/python3.11/dist-packages (from torch>=2.0.0->torchmetrics) (2024.10.0)\n",
            "Requirement already satisfied: nvidia-cuda-nvrtc-cu12==12.4.127 in /usr/local/lib/python3.11/dist-packages (from torch>=2.0.0->torchmetrics) (12.4.127)\n",
            "Requirement already satisfied: nvidia-cuda-runtime-cu12==12.4.127 in /usr/local/lib/python3.11/dist-packages (from torch>=2.0.0->torchmetrics) (12.4.127)\n",
            "Requirement already satisfied: nvidia-cuda-cupti-cu12==12.4.127 in /usr/local/lib/python3.11/dist-packages (from torch>=2.0.0->torchmetrics) (12.4.127)\n",
            "Requirement already satisfied: nvidia-cudnn-cu12==9.1.0.70 in /usr/local/lib/python3.11/dist-packages (from torch>=2.0.0->torchmetrics) (9.1.0.70)\n",
            "Requirement already satisfied: nvidia-cublas-cu12==12.4.5.8 in /usr/local/lib/python3.11/dist-packages (from torch>=2.0.0->torchmetrics) (12.4.5.8)\n",
            "Requirement already satisfied: nvidia-cufft-cu12==11.2.1.3 in /usr/local/lib/python3.11/dist-packages (from torch>=2.0.0->torchmetrics) (11.2.1.3)\n",
            "Requirement already satisfied: nvidia-curand-cu12==10.3.5.147 in /usr/local/lib/python3.11/dist-packages (from torch>=2.0.0->torchmetrics) (10.3.5.147)\n",
            "Requirement already satisfied: nvidia-cusolver-cu12==11.6.1.9 in /usr/local/lib/python3.11/dist-packages (from torch>=2.0.0->torchmetrics) (11.6.1.9)\n",
            "Requirement already satisfied: nvidia-cusparse-cu12==12.3.1.170 in /usr/local/lib/python3.11/dist-packages (from torch>=2.0.0->torchmetrics) (12.3.1.170)\n",
            "Requirement already satisfied: nvidia-nccl-cu12==2.21.5 in /usr/local/lib/python3.11/dist-packages (from torch>=2.0.0->torchmetrics) (2.21.5)\n",
            "Requirement already satisfied: nvidia-nvtx-cu12==12.4.127 in /usr/local/lib/python3.11/dist-packages (from torch>=2.0.0->torchmetrics) (12.4.127)\n",
            "Requirement already satisfied: nvidia-nvjitlink-cu12==12.4.127 in /usr/local/lib/python3.11/dist-packages (from torch>=2.0.0->torchmetrics) (12.4.127)\n",
            "Requirement already satisfied: triton==3.1.0 in /usr/local/lib/python3.11/dist-packages (from torch>=2.0.0->torchmetrics) (3.1.0)\n",
            "Requirement already satisfied: sympy==1.13.1 in /usr/local/lib/python3.11/dist-packages (from torch>=2.0.0->torchmetrics) (1.13.1)\n",
            "Requirement already satisfied: mpmath<1.4,>=1.1.0 in /usr/local/lib/python3.11/dist-packages (from sympy==1.13.1->torch>=2.0.0->torchmetrics) (1.3.0)\n",
            "Requirement already satisfied: MarkupSafe>=2.0 in /usr/local/lib/python3.11/dist-packages (from jinja2->torch>=2.0.0->torchmetrics) (3.0.2)\n",
            "Downloading torchmetrics-1.6.2-py3-none-any.whl (931 kB)\n",
            "\u001b[2K   \u001b[90m━━━━━━━━━━━━━━━━━━━━━━━━━━━━━━━━━━━━━━━━\u001b[0m \u001b[32m931.6/931.6 kB\u001b[0m \u001b[31m15.0 MB/s\u001b[0m eta \u001b[36m0:00:00\u001b[0m\n",
            "\u001b[?25hDownloading lightning_utilities-0.14.0-py3-none-any.whl (28 kB)\n",
            "Installing collected packages: lightning-utilities, torchmetrics\n",
            "Successfully installed lightning-utilities-0.14.0 torchmetrics-1.6.2\n",
            "MS-SSIM between the images: 0.7919092178344727\n"
          ]
        }
      ]
    },
    {
      "cell_type": "markdown",
      "source": [
        "# Hybrid score combining SSIM and CNN approach"
      ],
      "metadata": {
        "id": "Fw8CTTVyKoGn"
      }
    },
    {
      "cell_type": "code",
      "source": [
        "import numpy as np\n",
        "import cv2\n",
        "import torch\n",
        "import torchvision.transforms as transforms\n",
        "from torchvision import models\n",
        "from skimage.metrics import structural_similarity as ssim\n",
        "\n",
        "# Load a pre-trained CNN model\n",
        "model = models.resnet18(pretrained=True)\n",
        "model.eval()\n",
        "\n",
        "# Image preprocessing for CNN feature extraction\n",
        "transform = transforms.Compose([\n",
        "    transforms.ToTensor(),\n",
        "    transforms.Normalize(mean=[0.485, 0.456, 0.406], std=[0.229, 0.224, 0.225]),\n",
        "])\n",
        "\n",
        "# Function to load and preprocess the image for CNN\n",
        "def load_image(image_path):\n",
        "    img = cv2.imread(image_path)\n",
        "    img = cv2.cvtColor(img, cv2.COLOR_BGR2RGB)\n",
        "    img = cv2.resize(img, (224, 224))\n",
        "    img = transform(img).unsqueeze(0)\n",
        "    return img\n",
        "\n",
        "def extract_features(img_tensor):\n",
        "    with torch.no_grad():\n",
        "        features = model(img_tensor)\n",
        "    return features.squeeze().cpu().numpy()\n",
        "\n",
        "def cosine_similarity(features1, features2):\n",
        "    return np.dot(features1, features2) / (np.linalg.norm(features1) * np.linalg.norm(features2))\n",
        "\n",
        "def calculate_ssim(image1, image2):\n",
        "    image1 = image1.astype(np.float64)\n",
        "    image2 = image2.astype(np.float64)\n",
        "    return ssim(image1, image2, multichannel=True, win_size=7, channel_axis=-1, data_range=255)\n",
        "\n",
        "def hybrid_similarity(image_path1, image_path2, alpha=0.5, beta=0.5):\n",
        "    img1 = cv2.imread(image_path1)\n",
        "    img2 = cv2.imread(image_path2)\n",
        "\n",
        "    img1_rgb = cv2.cvtColor(img1, cv2.COLOR_BGR2RGB)\n",
        "    img2_rgb = cv2.cvtColor(img2, cv2.COLOR_BGR2RGB)\n",
        "\n",
        "    img1_resized = cv2.resize(img1_rgb, (224, 224))\n",
        "    img2_resized = cv2.resize(img2_rgb, (224, 224))\n",
        "\n",
        "    img_tensor1 = load_image(image_path1)\n",
        "    img_tensor2 = load_image(image_path2)\n",
        "\n",
        "    features1 = extract_features(img_tensor1)\n",
        "    features2 = extract_features(img_tensor2)\n",
        "\n",
        "    cnn_similarity = cosine_similarity(features1, features2)\n",
        "\n",
        "    ssim_score = calculate_ssim(img1_resized, img2_resized)\n",
        "\n",
        "    hybrid_score = alpha * cnn_similarity + beta * ssim_score\n",
        "\n",
        "    return hybrid_score\n",
        "\n",
        "image_path1 = '/content/shirt1.jpg'\n",
        "image_path2 = '/content/shirt2.jpg'\n",
        "\n",
        "similarity_score = hybrid_similarity(image_path1, image_path2, alpha=0.5, beta=0.5)\n",
        "print(f\"Hybrid Similarity Score: {similarity_score}\")\n"
      ],
      "metadata": {
        "id": "hQ_Z5fkAbrQT",
        "colab": {
          "base_uri": "https://localhost:8080/"
        },
        "outputId": "c9ec56e0-617d-4e80-fd64-5f8111b9be29"
      },
      "execution_count": 13,
      "outputs": [
        {
          "output_type": "stream",
          "name": "stderr",
          "text": [
            "/usr/local/lib/python3.11/dist-packages/torchvision/models/_utils.py:208: UserWarning: The parameter 'pretrained' is deprecated since 0.13 and may be removed in the future, please use 'weights' instead.\n",
            "  warnings.warn(\n",
            "/usr/local/lib/python3.11/dist-packages/torchvision/models/_utils.py:223: UserWarning: Arguments other than a weight enum or `None` for 'weights' are deprecated since 0.13 and may be removed in the future. The current behavior is equivalent to passing `weights=ResNet18_Weights.IMAGENET1K_V1`. You can also use `weights=ResNet18_Weights.DEFAULT` to get the most up-to-date weights.\n",
            "  warnings.warn(msg)\n",
            "Downloading: \"https://download.pytorch.org/models/resnet18-f37072fd.pth\" to /root/.cache/torch/hub/checkpoints/resnet18-f37072fd.pth\n",
            "100%|██████████| 44.7M/44.7M [00:00<00:00, 99.7MB/s]\n"
          ]
        },
        {
          "output_type": "stream",
          "name": "stdout",
          "text": [
            "Hybrid Similarity Score: 0.7784108709822233\n"
          ]
        }
      ]
    },
    {
      "cell_type": "code",
      "source": [],
      "metadata": {
        "id": "kL3FS14mfRpM"
      },
      "execution_count": 13,
      "outputs": []
    }
  ],
  "metadata": {
    "colab": {
      "provenance": [],
      "gpuType": "T4"
    },
    "kernelspec": {
      "display_name": "Python 3",
      "name": "python3"
    },
    "language_info": {
      "name": "python"
    },
    "accelerator": "GPU"
  },
  "nbformat": 4,
  "nbformat_minor": 0
}